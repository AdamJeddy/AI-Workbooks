{
 "cells": [
  {
   "cell_type": "markdown",
   "id": "98baee83",
   "metadata": {
    "id": "98baee83"
   },
   "source": [
    "# Deep Learning - Recurrent Neural Networks\n",
    "\n",
    "Implementation of a simple LSTM network that tries to estimate the google stock prices given a sequence of data. "
   ]
  },
  {
   "cell_type": "code",
   "execution_count": 1,
   "id": "c3d4bc97",
   "metadata": {
    "id": "c3d4bc97"
   },
   "outputs": [],
   "source": [
    "import numpy as np\n",
    "import pandas as pd \n",
    "import matplotlib.pyplot as plt"
   ]
  },
  {
   "cell_type": "markdown",
   "id": "8e6273a9",
   "metadata": {
    "id": "8e6273a9"
   },
   "source": [
    "## 1. Import your datasets train and test "
   ]
  },
  {
   "cell_type": "code",
   "execution_count": 2,
   "id": "c1751cf2",
   "metadata": {
    "colab": {
     "base_uri": "https://localhost:8080/",
     "height": 206
    },
    "id": "c1751cf2",
    "outputId": "506341f3-fe56-4d7c-ddca-950045cc7d78"
   },
   "outputs": [
    {
     "data": {
      "text/html": [
       "<div>\n",
       "<style scoped>\n",
       "    .dataframe tbody tr th:only-of-type {\n",
       "        vertical-align: middle;\n",
       "    }\n",
       "\n",
       "    .dataframe tbody tr th {\n",
       "        vertical-align: top;\n",
       "    }\n",
       "\n",
       "    .dataframe thead th {\n",
       "        text-align: right;\n",
       "    }\n",
       "</style>\n",
       "<table border=\"1\" class=\"dataframe\">\n",
       "  <thead>\n",
       "    <tr style=\"text-align: right;\">\n",
       "      <th></th>\n",
       "      <th>Date</th>\n",
       "      <th>Open</th>\n",
       "      <th>High</th>\n",
       "      <th>Low</th>\n",
       "      <th>Close</th>\n",
       "      <th>Adj Close</th>\n",
       "      <th>Volume</th>\n",
       "    </tr>\n",
       "  </thead>\n",
       "  <tbody>\n",
       "    <tr>\n",
       "      <th>0</th>\n",
       "      <td>2013-01-02</td>\n",
       "      <td>357.385559</td>\n",
       "      <td>361.151062</td>\n",
       "      <td>355.959839</td>\n",
       "      <td>359.288177</td>\n",
       "      <td>359.288177</td>\n",
       "      <td>5115500</td>\n",
       "    </tr>\n",
       "    <tr>\n",
       "      <th>1</th>\n",
       "      <td>2013-01-03</td>\n",
       "      <td>360.122742</td>\n",
       "      <td>363.600128</td>\n",
       "      <td>358.031342</td>\n",
       "      <td>359.496826</td>\n",
       "      <td>359.496826</td>\n",
       "      <td>4666500</td>\n",
       "    </tr>\n",
       "    <tr>\n",
       "      <th>2</th>\n",
       "      <td>2013-01-04</td>\n",
       "      <td>362.313507</td>\n",
       "      <td>368.339294</td>\n",
       "      <td>361.488861</td>\n",
       "      <td>366.600616</td>\n",
       "      <td>366.600616</td>\n",
       "      <td>5562800</td>\n",
       "    </tr>\n",
       "    <tr>\n",
       "      <th>3</th>\n",
       "      <td>2013-01-07</td>\n",
       "      <td>365.348755</td>\n",
       "      <td>367.301056</td>\n",
       "      <td>362.929504</td>\n",
       "      <td>365.001007</td>\n",
       "      <td>365.001007</td>\n",
       "      <td>3332900</td>\n",
       "    </tr>\n",
       "    <tr>\n",
       "      <th>4</th>\n",
       "      <td>2013-01-08</td>\n",
       "      <td>365.393463</td>\n",
       "      <td>365.771027</td>\n",
       "      <td>359.874359</td>\n",
       "      <td>364.280701</td>\n",
       "      <td>364.280701</td>\n",
       "      <td>3373900</td>\n",
       "    </tr>\n",
       "  </tbody>\n",
       "</table>\n",
       "</div>"
      ],
      "text/plain": [
       "         Date        Open        High  ...       Close   Adj Close   Volume\n",
       "0  2013-01-02  357.385559  361.151062  ...  359.288177  359.288177  5115500\n",
       "1  2013-01-03  360.122742  363.600128  ...  359.496826  359.496826  4666500\n",
       "2  2013-01-04  362.313507  368.339294  ...  366.600616  366.600616  5562800\n",
       "3  2013-01-07  365.348755  367.301056  ...  365.001007  365.001007  3332900\n",
       "4  2013-01-08  365.393463  365.771027  ...  364.280701  364.280701  3373900\n",
       "\n",
       "[5 rows x 7 columns]"
      ]
     },
     "execution_count": 2,
     "metadata": {},
     "output_type": "execute_result"
    }
   ],
   "source": [
    "train = pd.read_csv('trainset.csv')\n",
    "train.head()"
   ]
  },
  {
   "cell_type": "code",
   "execution_count": 3,
   "id": "1fef3205",
   "metadata": {
    "colab": {
     "base_uri": "https://localhost:8080/",
     "height": 206
    },
    "id": "1fef3205",
    "outputId": "4043290b-e81e-4c7d-e741-d9f0b1143aac"
   },
   "outputs": [
    {
     "data": {
      "text/html": [
       "<div>\n",
       "<style scoped>\n",
       "    .dataframe tbody tr th:only-of-type {\n",
       "        vertical-align: middle;\n",
       "    }\n",
       "\n",
       "    .dataframe tbody tr th {\n",
       "        vertical-align: top;\n",
       "    }\n",
       "\n",
       "    .dataframe thead th {\n",
       "        text-align: right;\n",
       "    }\n",
       "</style>\n",
       "<table border=\"1\" class=\"dataframe\">\n",
       "  <thead>\n",
       "    <tr style=\"text-align: right;\">\n",
       "      <th></th>\n",
       "      <th>Date</th>\n",
       "      <th>Open</th>\n",
       "      <th>High</th>\n",
       "      <th>Low</th>\n",
       "      <th>Close</th>\n",
       "      <th>Adj Close</th>\n",
       "      <th>Volume</th>\n",
       "    </tr>\n",
       "  </thead>\n",
       "  <tbody>\n",
       "    <tr>\n",
       "      <th>0</th>\n",
       "      <td>2018-01-02</td>\n",
       "      <td>1048.339966</td>\n",
       "      <td>1066.939941</td>\n",
       "      <td>1045.229980</td>\n",
       "      <td>1065.000000</td>\n",
       "      <td>1065.000000</td>\n",
       "      <td>1237600</td>\n",
       "    </tr>\n",
       "    <tr>\n",
       "      <th>1</th>\n",
       "      <td>2018-01-03</td>\n",
       "      <td>1064.310059</td>\n",
       "      <td>1086.290039</td>\n",
       "      <td>1063.209961</td>\n",
       "      <td>1082.479980</td>\n",
       "      <td>1082.479980</td>\n",
       "      <td>1430200</td>\n",
       "    </tr>\n",
       "    <tr>\n",
       "      <th>2</th>\n",
       "      <td>2018-01-04</td>\n",
       "      <td>1088.000000</td>\n",
       "      <td>1093.569946</td>\n",
       "      <td>1084.001953</td>\n",
       "      <td>1086.400024</td>\n",
       "      <td>1086.400024</td>\n",
       "      <td>1004600</td>\n",
       "    </tr>\n",
       "    <tr>\n",
       "      <th>3</th>\n",
       "      <td>2018-01-05</td>\n",
       "      <td>1094.000000</td>\n",
       "      <td>1104.250000</td>\n",
       "      <td>1092.000000</td>\n",
       "      <td>1102.229980</td>\n",
       "      <td>1102.229980</td>\n",
       "      <td>1279100</td>\n",
       "    </tr>\n",
       "    <tr>\n",
       "      <th>4</th>\n",
       "      <td>2018-01-08</td>\n",
       "      <td>1102.229980</td>\n",
       "      <td>1111.270020</td>\n",
       "      <td>1101.619995</td>\n",
       "      <td>1106.939941</td>\n",
       "      <td>1106.939941</td>\n",
       "      <td>1047600</td>\n",
       "    </tr>\n",
       "  </tbody>\n",
       "</table>\n",
       "</div>"
      ],
      "text/plain": [
       "         Date         Open         High  ...        Close    Adj Close   Volume\n",
       "0  2018-01-02  1048.339966  1066.939941  ...  1065.000000  1065.000000  1237600\n",
       "1  2018-01-03  1064.310059  1086.290039  ...  1082.479980  1082.479980  1430200\n",
       "2  2018-01-04  1088.000000  1093.569946  ...  1086.400024  1086.400024  1004600\n",
       "3  2018-01-05  1094.000000  1104.250000  ...  1102.229980  1102.229980  1279100\n",
       "4  2018-01-08  1102.229980  1111.270020  ...  1106.939941  1106.939941  1047600\n",
       "\n",
       "[5 rows x 7 columns]"
      ]
     },
     "execution_count": 3,
     "metadata": {},
     "output_type": "execute_result"
    }
   ],
   "source": [
    "test = pd.read_csv('testset.csv')\n",
    "test.head()"
   ]
  },
  {
   "cell_type": "markdown",
   "id": "59967059",
   "metadata": {
    "id": "59967059"
   },
   "source": [
    "## 2. Separate your open column and store it in a variable. \n",
    "Training can only be done on numpy arrays, therefore we have to transform the dataframe into a numpy array."
   ]
  },
  {
   "cell_type": "code",
   "execution_count": 4,
   "id": "6f93a7f7",
   "metadata": {
    "colab": {
     "base_uri": "https://localhost:8080/"
    },
    "id": "6f93a7f7",
    "outputId": "2dc4618f-1075-4890-fbc4-09cc955ee11d"
   },
   "outputs": [
    {
     "data": {
      "text/plain": [
       "numpy.ndarray"
      ]
     },
     "execution_count": 4,
     "metadata": {},
     "output_type": "execute_result"
    }
   ],
   "source": [
    "# Seperating the col and changing it to a numpy array and resizing it \n",
    "training = train['Open'].to_numpy().reshape(-1, 1) \n",
    "type(training)"
   ]
  },
  {
   "cell_type": "markdown",
   "id": "caeda4ab",
   "metadata": {
    "id": "caeda4ab"
   },
   "source": [
    "## 3. Use a MaxMinScaler and scale your data to a range of 0-1."
   ]
  },
  {
   "cell_type": "code",
   "execution_count": 5,
   "id": "7530c666",
   "metadata": {
    "colab": {
     "base_uri": "https://localhost:8080/"
    },
    "id": "7530c666",
    "outputId": "f03fba7b-d513-4597-9cb0-a389ae590159"
   },
   "outputs": [
    {
     "data": {
      "text/plain": [
       "array([[0.01011148],\n",
       "       [0.01388614],\n",
       "       [0.01690727],\n",
       "       ...,\n",
       "       [0.97543954],\n",
       "       [0.9674549 ],\n",
       "       [0.96072522]])"
      ]
     },
     "execution_count": 5,
     "metadata": {},
     "output_type": "execute_result"
    }
   ],
   "source": [
    "# import\n",
    "from sklearn.preprocessing import MinMaxScaler\n",
    "\n",
    "# initialize \n",
    "scaler = MinMaxScaler(feature_range=(0,1))\n",
    "\n",
    "# Scale the data\n",
    "training_scaled = scaler.fit_transform(training)\n",
    "training_scaled"
   ]
  },
  {
   "cell_type": "markdown",
   "id": "acb89798",
   "metadata": {
    "id": "acb89798"
   },
   "source": [
    "## 4. Create empty arrays for x, y of train and test set. \n",
    "We will use windows of 60 timestaps to predict the 61st sample. Use a for loop, that ranges to length of training or testing file. Every 60 sample, append to your training set. \n",
    "Keep in mind that labels: \n",
    "\n",
    "        x_train.append(training_scaled[i-60:i, 0])\n",
    "        y_train.append(training_scaled[i,0])"
   ]
  },
  {
   "cell_type": "code",
   "execution_count": 6,
   "id": "1d3ac107",
   "metadata": {
    "id": "1d3ac107"
   },
   "outputs": [],
   "source": [
    "x_train = []\n",
    "y_train = []"
   ]
  },
  {
   "cell_type": "code",
   "execution_count": 7,
   "id": "6848be6b",
   "metadata": {
    "id": "6848be6b"
   },
   "outputs": [],
   "source": [
    "for i in range(60, len(training_scaled)):\n",
    "    x_train.append(training_scaled[i-60:i, 0])\n",
    "    y_train.append(training_scaled[i,0])"
   ]
  },
  {
   "cell_type": "code",
   "execution_count": 8,
   "id": "4fc20d9d",
   "metadata": {
    "id": "4fc20d9d"
   },
   "outputs": [],
   "source": [
    "x_train, y_train = np.array(x_train), np.array(y_train)"
   ]
  },
  {
   "cell_type": "markdown",
   "id": "9d36dc89",
   "metadata": {
    "id": "9d36dc89"
   },
   "source": [
    "## 5. reshape your data such that it has space for another set of features. "
   ]
  },
  {
   "cell_type": "code",
   "execution_count": 9,
   "id": "0b592d9a",
   "metadata": {
    "colab": {
     "base_uri": "https://localhost:8080/"
    },
    "id": "0b592d9a",
    "outputId": "bb3da755-ff64-445f-8034-4b733212cb2b"
   },
   "outputs": [
    {
     "data": {
      "text/plain": [
       "(1199, 60, 1)"
      ]
     },
     "execution_count": 9,
     "metadata": {},
     "output_type": "execute_result"
    }
   ],
   "source": [
    "x_train = np.reshape(x_train, (x_train.shape[0], x_train.shape[1], 1))\n",
    "x_train.shape"
   ]
  },
  {
   "cell_type": "markdown",
   "id": "153c397d",
   "metadata": {
    "id": "153c397d"
   },
   "source": [
    "**Training and testing files should be ready**  "
   ]
  },
  {
   "cell_type": "markdown",
   "id": "4ebe9efc",
   "metadata": {
    "id": "4ebe9efc"
   },
   "source": []
  },
  {
   "cell_type": "code",
   "execution_count": 10,
   "id": "75bdd571",
   "metadata": {
    "id": "75bdd571"
   },
   "outputs": [],
   "source": [
    "from keras.models import Sequential\n",
    "from keras.layers import Dense\n",
    "from keras.layers import LSTM\n",
    "from keras.layers import Dropout"
   ]
  },
  {
   "cell_type": "markdown",
   "id": "4e430ab1",
   "metadata": {
    "id": "4e430ab1"
   },
   "source": [
    "## 6. Create a regressor model that has the following structure. \n",
    "![image.png](attachment:image.png)"
   ]
  },
  {
   "cell_type": "code",
   "execution_count": 11,
   "id": "6002403c",
   "metadata": {
    "id": "6002403c"
   },
   "outputs": [],
   "source": [
    "model = Sequential()"
   ]
  },
  {
   "cell_type": "code",
   "execution_count": 12,
   "id": "f2265822",
   "metadata": {
    "id": "f2265822"
   },
   "outputs": [],
   "source": [
    "model.add(LSTM(units=50, return_sequences=True, input_shape=(60, 1)))\n",
    "model.add(Dropout(0.2))"
   ]
  },
  {
   "cell_type": "code",
   "execution_count": 13,
   "id": "7bMHbOq6ptU4",
   "metadata": {
    "id": "7bMHbOq6ptU4"
   },
   "outputs": [],
   "source": [
    "model.add(LSTM(units = 50, return_sequences = True))\n",
    "model.add(Dropout(0.2))\n",
    "\n",
    "model.add(LSTM(units = 50, return_sequences = True))\n",
    "model.add(Dropout(0.2))"
   ]
  },
  {
   "cell_type": "code",
   "execution_count": 14,
   "id": "0w8cVZY5ptKb",
   "metadata": {
    "id": "0w8cVZY5ptKb"
   },
   "outputs": [],
   "source": [
    "model.add(LSTM(units = 50))\n",
    "model.add(Dropout(0.2))\n",
    "model.add(Dense(units = 1))"
   ]
  },
  {
   "cell_type": "markdown",
   "id": "9566de47",
   "metadata": {
    "id": "9566de47"
   },
   "source": [
    "## 7. Compile your model using the adam optimizer and set your losses for 'mean_squared_error'. and fit your data with 75 epochs."
   ]
  },
  {
   "cell_type": "code",
   "execution_count": 15,
   "id": "27603b1f",
   "metadata": {
    "colab": {
     "base_uri": "https://localhost:8080/"
    },
    "id": "27603b1f",
    "outputId": "09028bfa-ce67-4e21-fea4-65d5a03914b0"
   },
   "outputs": [
    {
     "name": "stdout",
     "output_type": "stream",
     "text": [
      "Model: \"sequential\"\n",
      "_________________________________________________________________\n",
      " Layer (type)                Output Shape              Param #   \n",
      "=================================================================\n",
      " lstm (LSTM)                 (None, 60, 50)            10400     \n",
      "                                                                 \n",
      " dropout (Dropout)           (None, 60, 50)            0         \n",
      "                                                                 \n",
      " lstm_1 (LSTM)               (None, 60, 50)            20200     \n",
      "                                                                 \n",
      " dropout_1 (Dropout)         (None, 60, 50)            0         \n",
      "                                                                 \n",
      " lstm_2 (LSTM)               (None, 60, 50)            20200     \n",
      "                                                                 \n",
      " dropout_2 (Dropout)         (None, 60, 50)            0         \n",
      "                                                                 \n",
      " lstm_3 (LSTM)               (None, 50)                20200     \n",
      "                                                                 \n",
      " dropout_3 (Dropout)         (None, 50)                0         \n",
      "                                                                 \n",
      " dense (Dense)               (None, 1)                 51        \n",
      "                                                                 \n",
      "=================================================================\n",
      "Total params: 71,051\n",
      "Trainable params: 71,051\n",
      "Non-trainable params: 0\n",
      "_________________________________________________________________\n",
      "None\n"
     ]
    }
   ],
   "source": [
    "model.compile(optimizer = 'adam', loss = 'mean_squared_error')\n",
    "print(model.summary())"
   ]
  },
  {
   "cell_type": "code",
   "execution_count": 16,
   "id": "400d7404",
   "metadata": {
    "colab": {
     "base_uri": "https://localhost:8080/"
    },
    "id": "400d7404",
    "outputId": "64bac89b-8110-4d21-c66d-09c40e489f22"
   },
   "outputs": [
    {
     "name": "stdout",
     "output_type": "stream",
     "text": [
      "Epoch 1/75\n",
      "38/38 [==============================] - 13s 136ms/step - loss: 0.0242\n",
      "Epoch 2/75\n",
      "38/38 [==============================] - 5s 132ms/step - loss: 0.0047\n",
      "Epoch 3/75\n",
      "38/38 [==============================] - 5s 137ms/step - loss: 0.0038\n",
      "Epoch 4/75\n",
      "38/38 [==============================] - 5s 136ms/step - loss: 0.0035\n",
      "Epoch 5/75\n",
      "38/38 [==============================] - 5s 133ms/step - loss: 0.0035\n",
      "Epoch 6/75\n",
      "38/38 [==============================] - 5s 132ms/step - loss: 0.0036\n",
      "Epoch 7/75\n",
      "38/38 [==============================] - 5s 134ms/step - loss: 0.0036\n",
      "Epoch 8/75\n",
      "38/38 [==============================] - 5s 135ms/step - loss: 0.0034\n",
      "Epoch 9/75\n",
      "38/38 [==============================] - 5s 135ms/step - loss: 0.0036\n",
      "Epoch 10/75\n",
      "38/38 [==============================] - 5s 135ms/step - loss: 0.0033\n",
      "Epoch 11/75\n",
      "38/38 [==============================] - 5s 135ms/step - loss: 0.0031\n",
      "Epoch 12/75\n",
      "38/38 [==============================] - 5s 134ms/step - loss: 0.0034\n",
      "Epoch 13/75\n",
      "38/38 [==============================] - 5s 135ms/step - loss: 0.0032\n",
      "Epoch 14/75\n",
      "38/38 [==============================] - 5s 138ms/step - loss: 0.0028\n",
      "Epoch 15/75\n",
      "38/38 [==============================] - 5s 135ms/step - loss: 0.0027\n",
      "Epoch 16/75\n",
      "38/38 [==============================] - 5s 135ms/step - loss: 0.0028\n",
      "Epoch 17/75\n",
      "38/38 [==============================] - 5s 137ms/step - loss: 0.0030\n",
      "Epoch 18/75\n",
      "38/38 [==============================] - 5s 134ms/step - loss: 0.0028\n",
      "Epoch 19/75\n",
      "38/38 [==============================] - 5s 134ms/step - loss: 0.0028\n",
      "Epoch 20/75\n",
      "38/38 [==============================] - 5s 134ms/step - loss: 0.0026\n",
      "Epoch 21/75\n",
      "38/38 [==============================] - 5s 133ms/step - loss: 0.0025\n",
      "Epoch 22/75\n",
      "38/38 [==============================] - 5s 135ms/step - loss: 0.0022\n",
      "Epoch 23/75\n",
      "38/38 [==============================] - 5s 132ms/step - loss: 0.0026\n",
      "Epoch 24/75\n",
      "38/38 [==============================] - 5s 133ms/step - loss: 0.0021\n",
      "Epoch 25/75\n",
      "38/38 [==============================] - 5s 134ms/step - loss: 0.0023\n",
      "Epoch 26/75\n",
      "38/38 [==============================] - 5s 133ms/step - loss: 0.0023\n",
      "Epoch 27/75\n",
      "38/38 [==============================] - 5s 133ms/step - loss: 0.0021\n",
      "Epoch 28/75\n",
      "38/38 [==============================] - 5s 136ms/step - loss: 0.0023\n",
      "Epoch 29/75\n",
      "38/38 [==============================] - 5s 135ms/step - loss: 0.0021\n",
      "Epoch 30/75\n",
      "38/38 [==============================] - 5s 138ms/step - loss: 0.0023\n",
      "Epoch 31/75\n",
      "38/38 [==============================] - 5s 132ms/step - loss: 0.0021\n",
      "Epoch 32/75\n",
      "38/38 [==============================] - 5s 137ms/step - loss: 0.0019\n",
      "Epoch 33/75\n",
      "38/38 [==============================] - 5s 133ms/step - loss: 0.0020\n",
      "Epoch 34/75\n",
      "38/38 [==============================] - 5s 136ms/step - loss: 0.0020\n",
      "Epoch 35/75\n",
      "38/38 [==============================] - 5s 136ms/step - loss: 0.0018\n",
      "Epoch 36/75\n",
      "38/38 [==============================] - 5s 133ms/step - loss: 0.0021\n",
      "Epoch 37/75\n",
      "38/38 [==============================] - 5s 136ms/step - loss: 0.0019\n",
      "Epoch 38/75\n",
      "38/38 [==============================] - 5s 134ms/step - loss: 0.0018\n",
      "Epoch 39/75\n",
      "38/38 [==============================] - 5s 134ms/step - loss: 0.0020\n",
      "Epoch 40/75\n",
      "38/38 [==============================] - 5s 133ms/step - loss: 0.0017\n",
      "Epoch 41/75\n",
      "38/38 [==============================] - 5s 133ms/step - loss: 0.0019\n",
      "Epoch 42/75\n",
      "38/38 [==============================] - 5s 135ms/step - loss: 0.0019\n",
      "Epoch 43/75\n",
      "38/38 [==============================] - 5s 135ms/step - loss: 0.0020\n",
      "Epoch 44/75\n",
      "38/38 [==============================] - 5s 138ms/step - loss: 0.0019\n",
      "Epoch 45/75\n",
      "38/38 [==============================] - 5s 133ms/step - loss: 0.0021\n",
      "Epoch 46/75\n",
      "38/38 [==============================] - 5s 133ms/step - loss: 0.0018\n",
      "Epoch 47/75\n",
      "38/38 [==============================] - 5s 132ms/step - loss: 0.0019\n",
      "Epoch 48/75\n",
      "38/38 [==============================] - 5s 135ms/step - loss: 0.0017\n",
      "Epoch 49/75\n",
      "38/38 [==============================] - 5s 136ms/step - loss: 0.0016\n",
      "Epoch 50/75\n",
      "38/38 [==============================] - 5s 133ms/step - loss: 0.0016\n",
      "Epoch 51/75\n",
      "38/38 [==============================] - 5s 134ms/step - loss: 0.0017\n",
      "Epoch 52/75\n",
      "38/38 [==============================] - 5s 137ms/step - loss: 0.0019\n",
      "Epoch 53/75\n",
      "38/38 [==============================] - 5s 134ms/step - loss: 0.0015\n",
      "Epoch 54/75\n",
      "38/38 [==============================] - 5s 133ms/step - loss: 0.0015\n",
      "Epoch 55/75\n",
      "38/38 [==============================] - 5s 136ms/step - loss: 0.0016\n",
      "Epoch 56/75\n",
      "38/38 [==============================] - 5s 138ms/step - loss: 0.0016\n",
      "Epoch 57/75\n",
      "38/38 [==============================] - 5s 136ms/step - loss: 0.0014\n",
      "Epoch 58/75\n",
      "38/38 [==============================] - 5s 137ms/step - loss: 0.0016\n",
      "Epoch 59/75\n",
      "38/38 [==============================] - 5s 136ms/step - loss: 0.0014\n",
      "Epoch 60/75\n",
      "38/38 [==============================] - 5s 134ms/step - loss: 0.0015\n",
      "Epoch 61/75\n",
      "38/38 [==============================] - 5s 136ms/step - loss: 0.0014\n",
      "Epoch 62/75\n",
      "38/38 [==============================] - 5s 136ms/step - loss: 0.0016\n",
      "Epoch 63/75\n",
      "38/38 [==============================] - 5s 133ms/step - loss: 0.0014\n",
      "Epoch 64/75\n",
      "38/38 [==============================] - 5s 136ms/step - loss: 0.0014\n",
      "Epoch 65/75\n",
      "38/38 [==============================] - 5s 137ms/step - loss: 0.0015\n",
      "Epoch 66/75\n",
      "38/38 [==============================] - 5s 134ms/step - loss: 0.0012\n",
      "Epoch 67/75\n",
      "38/38 [==============================] - 5s 135ms/step - loss: 0.0013\n",
      "Epoch 68/75\n",
      "38/38 [==============================] - 5s 135ms/step - loss: 0.0013\n",
      "Epoch 69/75\n",
      "38/38 [==============================] - 5s 134ms/step - loss: 0.0015\n",
      "Epoch 70/75\n",
      "38/38 [==============================] - 5s 137ms/step - loss: 0.0014\n",
      "Epoch 71/75\n",
      "38/38 [==============================] - 5s 135ms/step - loss: 0.0012\n",
      "Epoch 72/75\n",
      "38/38 [==============================] - 5s 136ms/step - loss: 0.0013\n",
      "Epoch 73/75\n",
      "38/38 [==============================] - 5s 136ms/step - loss: 0.0013\n",
      "Epoch 74/75\n",
      "38/38 [==============================] - 5s 134ms/step - loss: 0.0012\n",
      "Epoch 75/75\n",
      "38/38 [==============================] - 5s 140ms/step - loss: 0.0012\n"
     ]
    },
    {
     "data": {
      "text/plain": [
       "<keras.callbacks.History at 0x7fcf53704050>"
      ]
     },
     "execution_count": 16,
     "metadata": {},
     "output_type": "execute_result"
    }
   ],
   "source": [
    "model.fit(x_train, y_train, epochs = 75)"
   ]
  },
  {
   "cell_type": "markdown",
   "id": "c727e573",
   "metadata": {
    "id": "c727e573"
   },
   "source": [
    "## 8. Concatenate your train['open'] and test['open'] with axis =0. \n"
   ]
  },
  {
   "cell_type": "code",
   "execution_count": 17,
   "id": "818484a0",
   "metadata": {
    "id": "818484a0"
   },
   "outputs": [],
   "source": [
    "testing = test['Open'].to_numpy().reshape(-1, 1)"
   ]
  },
  {
   "cell_type": "code",
   "execution_count": 18,
   "id": "3ede38af",
   "metadata": {
    "id": "3ede38af"
   },
   "outputs": [],
   "source": [
    "concat_open = pd.concat((test['Open'], train['Open']), axis=0)"
   ]
  },
  {
   "cell_type": "markdown",
   "id": "5ba1481f",
   "metadata": {
    "id": "5ba1481f"
   },
   "source": [
    "## 9. Make sure your inputs start from index 60. reshape them into a single column and apply the scaler transform. "
   ]
  },
  {
   "cell_type": "code",
   "execution_count": 19,
   "id": "e97c746c",
   "metadata": {
    "id": "e97c746c"
   },
   "outputs": [],
   "source": [
    "inputs = concat_open[1259 - 60:].to_numpy().reshape(-1, 1)"
   ]
  },
  {
   "cell_type": "code",
   "execution_count": 20,
   "id": "dd2c70fc",
   "metadata": {
    "colab": {
     "base_uri": "https://localhost:8080/"
    },
    "id": "dd2c70fc",
    "outputId": "87371bf5-3a0d-45af-dbd7-9c9520e0e9e1"
   },
   "outputs": [
    {
     "data": {
      "text/plain": [
       "array([[2.38087022e-02],\n",
       "       [1.36613992e-02],\n",
       "       [1.09765446e-02],\n",
       "       [0.00000000e+00],\n",
       "       [8.29241658e-04],\n",
       "       [1.21610041e-02],\n",
       "       [4.85252104e-02],\n",
       "       [7.05175819e-02],\n",
       "       [7.70324643e-02],\n",
       "       [8.27181090e-02],\n",
       "       [1.15568460e-01],\n",
       "       [1.70055728e-01],\n",
       "       [2.06498976e-01],\n",
       "       [2.04011496e-01],\n",
       "       [3.50337564e-01],\n",
       "       [3.15908012e-01],\n",
       "       [3.46231360e-01],\n",
       "       [3.66920707e-01],\n",
       "       [4.11181866e-01],\n",
       "       [4.40675972e-01],\n",
       "       [4.11379237e-01],\n",
       "       [4.54140001e-01],\n",
       "       [4.34516545e-01],\n",
       "       [4.08220599e-01],\n",
       "       [4.32739978e-01],\n",
       "       [4.38346576e-01],\n",
       "       [4.66182440e-01],\n",
       "       [4.49085991e-01],\n",
       "       [3.91163673e-01],\n",
       "       [4.32502847e-01],\n",
       "       [4.46440659e-01],\n",
       "       [4.97453354e-01],\n",
       "       [5.17432024e-01],\n",
       "       [5.34607519e-01],\n",
       "       [5.83448665e-01],\n",
       "       [5.85857107e-01],\n",
       "       [6.04453952e-01],\n",
       "       [5.80487398e-01],\n",
       "       [5.82501099e-01],\n",
       "       [6.10494810e-01],\n",
       "       [6.36593385e-01],\n",
       "       [6.24116687e-01],\n",
       "       [6.33395229e-01],\n",
       "       [6.41884289e-01],\n",
       "       [4.64445155e-01],\n",
       "       [5.13207255e-01],\n",
       "       [5.44833628e-01],\n",
       "       [4.42373738e-01],\n",
       "       [4.66182440e-01],\n",
       "       [5.05508154e-01],\n",
       "       [5.35357719e-01],\n",
       "       [5.20038077e-01],\n",
       "       [5.40016748e-01],\n",
       "       [5.32633341e-01],\n",
       "       [5.84238384e-01],\n",
       "       [4.75895483e-01],\n",
       "       [4.22750522e-01],\n",
       "       [4.26382943e-01],\n",
       "       [4.11102824e-01],\n",
       "       [3.56339144e-01],\n",
       "       [3.15197340e-01],\n",
       "       [3.24515401e-01],\n",
       "       [3.43191051e-01],\n",
       "       [3.94203986e-01],\n",
       "       [4.24882548e-01],\n",
       "       [4.60970582e-01],\n",
       "       [4.91017513e-01],\n",
       "       [5.13562714e-01],\n",
       "       [5.33304495e-01],\n",
       "       [5.17511070e-01],\n",
       "       [5.76104782e-01],\n",
       "       [6.04374906e-01],\n",
       "       [5.54033365e-01],\n",
       "       [5.93398361e-01],\n",
       "       [5.20709231e-01],\n",
       "       [5.24144281e-01],\n",
       "       [5.12694190e-01],\n",
       "       [4.24329959e-01],\n",
       "       [4.73644892e-01],\n",
       "       [4.36095986e-01],\n",
       "       [4.21210604e-01],\n",
       "       [4.28041426e-01],\n",
       "       [4.13866721e-01],\n",
       "       [4.22987416e-01],\n",
       "       [4.15209269e-01],\n",
       "       [3.89623755e-01],\n",
       "       [3.77541797e-01],\n",
       "       [3.39716478e-01],\n",
       "       [3.97204772e-01],\n",
       "       [4.03916784e-01],\n",
       "       [4.08102034e-01],\n",
       "       [4.10036930e-01],\n",
       "       [3.48955738e-01],\n",
       "       [3.47731755e-01],\n",
       "       [3.58471169e-01],\n",
       "       [3.94835616e-01],\n",
       "       [4.21407974e-01],\n",
       "       [4.00995040e-01],\n",
       "       [3.71421892e-01],\n",
       "       [3.28384715e-01],\n",
       "       [3.87412687e-01],\n",
       "       [4.33648025e-01],\n",
       "       [4.70644102e-01],\n",
       "       [4.38859882e-01],\n",
       "       [4.27291227e-01],\n",
       "       [4.33529456e-01],\n",
       "       [4.52323670e-01],\n",
       "       [4.43479392e-01],\n",
       "       [4.36925227e-01],\n",
       "       [4.29304687e-01],\n",
       "       [4.31634324e-01],\n",
       "       [4.05614550e-01],\n",
       "       [3.87254840e-01],\n",
       "       [3.77028491e-01],\n",
       "       [3.98981339e-01],\n",
       "       [4.38543947e-01],\n",
       "       [4.17815077e-01],\n",
       "       [4.08733905e-01],\n",
       "       [4.01903087e-01],\n",
       "       [4.17775554e-01],\n",
       "       [4.71552145e-01],\n",
       "       [5.13562714e-01],\n",
       "       [5.45070517e-01],\n",
       "       [5.21459426e-01],\n",
       "       [5.33304495e-01],\n",
       "       [5.27342438e-01],\n",
       "       [5.71603597e-01],\n",
       "       [6.24116687e-01],\n",
       "       [6.24116687e-01],\n",
       "       [5.99320895e-01],\n",
       "       [6.53531987e-01],\n",
       "       [6.71496961e-01],\n",
       "       [6.71891701e-01],\n",
       "       [6.64745185e-01],\n",
       "       [6.70588918e-01],\n",
       "       [6.47806824e-01],\n",
       "       [6.61389177e-01],\n",
       "       [6.61705116e-01],\n",
       "       [5.84633125e-01],\n",
       "       [5.78197285e-01],\n",
       "       [6.24116687e-01],\n",
       "       [7.39369211e-01],\n",
       "       [7.58360796e-01],\n",
       "       [7.63177676e-01],\n",
       "       [7.71035106e-01],\n",
       "       [7.89000080e-01],\n",
       "       [7.90381905e-01],\n",
       "       [8.17546616e-01],\n",
       "       [8.10755561e-01],\n",
       "       [8.23587719e-01],\n",
       "       [8.37288396e-01],\n",
       "       [8.07557160e-01],\n",
       "       [7.95554244e-01],\n",
       "       [7.92277282e-01],\n",
       "       [7.78931819e-01],\n",
       "       [7.92000870e-01],\n",
       "       [8.37367443e-01],\n",
       "       [7.83077545e-01],\n",
       "       [7.95119984e-01],\n",
       "       [8.41276276e-01],\n",
       "       [8.44711326e-01],\n",
       "       [8.61018056e-01],\n",
       "       [9.20598617e-01],\n",
       "       [8.71599864e-01],\n",
       "       [7.91408518e-01],\n",
       "       [7.65467790e-01],\n",
       "       [7.53069892e-01],\n",
       "       [6.87053492e-01],\n",
       "       [7.09006344e-01],\n",
       "       [7.83748699e-01],\n",
       "       [8.51107643e-01],\n",
       "       [8.43250454e-01],\n",
       "       [8.59557184e-01],\n",
       "       [8.85181976e-01],\n",
       "       [8.80759837e-01],\n",
       "       [9.18703481e-01],\n",
       "       [9.63991012e-01],\n",
       "       [1.00000000e+00],\n",
       "       [9.86496930e-01],\n",
       "       [9.59529349e-01],\n",
       "       [9.44367796e-01],\n",
       "       [9.32364639e-01],\n",
       "       [9.29680029e-01],\n",
       "       [9.06818893e-01],\n",
       "       [8.87550895e-01]])"
      ]
     },
     "execution_count": 20,
     "metadata": {},
     "output_type": "execute_result"
    }
   ],
   "source": [
    "inputs = scaler.fit_transform(inputs)\n",
    "inputs"
   ]
  },
  {
   "cell_type": "markdown",
   "id": "004fdb5f",
   "metadata": {
    "id": "004fdb5f"
   },
   "source": [
    "## 10. Refer to step 4, if you have completed it for x_test move to step 11, else append your data in x_test in the same way. "
   ]
  },
  {
   "cell_type": "code",
   "execution_count": 21,
   "id": "113a9ec8",
   "metadata": {
    "id": "113a9ec8"
   },
   "outputs": [],
   "source": [
    "x_test = []"
   ]
  },
  {
   "cell_type": "code",
   "execution_count": 22,
   "id": "0740495e",
   "metadata": {
    "id": "0740495e"
   },
   "outputs": [],
   "source": [
    "for i in range(60, len(inputs)):\n",
    "    x_test.append(inputs[i-60:i, 0])"
   ]
  },
  {
   "cell_type": "markdown",
   "id": "5c9fc59b",
   "metadata": {
    "id": "5c9fc59b"
   },
   "source": [
    "## 11. Convert to a numpy array and reshape similar to step 5."
   ]
  },
  {
   "cell_type": "code",
   "execution_count": 23,
   "id": "3d33d0bc",
   "metadata": {
    "id": "3d33d0bc"
   },
   "outputs": [],
   "source": [
    "x_test = np.array(x_test)"
   ]
  },
  {
   "cell_type": "code",
   "execution_count": 24,
   "id": "ecdd8507",
   "metadata": {
    "id": "ecdd8507"
   },
   "outputs": [],
   "source": [
    "x_test = np.reshape(x_test, (x_test.shape[0], x_test.shape[1], 1))"
   ]
  },
  {
   "cell_type": "code",
   "execution_count": 25,
   "id": "871252fb",
   "metadata": {
    "colab": {
     "base_uri": "https://localhost:8080/"
    },
    "id": "871252fb",
    "outputId": "49df1583-6c52-4fb7-ffff-78556faba6a9"
   },
   "outputs": [
    {
     "data": {
      "text/plain": [
       "(125, 60, 1)"
      ]
     },
     "execution_count": 25,
     "metadata": {},
     "output_type": "execute_result"
    }
   ],
   "source": [
    "x_test.shape"
   ]
  },
  {
   "cell_type": "markdown",
   "id": "c709287b",
   "metadata": {
    "id": "c709287b"
   },
   "source": [
    "## 12. Predict your results and plot them against the real values."
   ]
  },
  {
   "cell_type": "code",
   "execution_count": 26,
   "id": "9cecf87e",
   "metadata": {
    "id": "9cecf87e"
   },
   "outputs": [],
   "source": [
    "pred = model.predict(x_test)"
   ]
  },
  {
   "cell_type": "code",
   "execution_count": 27,
   "id": "903ddd25",
   "metadata": {
    "id": "903ddd25"
   },
   "outputs": [],
   "source": [
    "# undo the transformation by inverse-transforming since we need it in the original form\n",
    "pred = scaler.inverse_transform(pred)"
   ]
  },
  {
   "cell_type": "code",
   "execution_count": 28,
   "id": "6d13d778",
   "metadata": {
    "colab": {
     "base_uri": "https://localhost:8080/",
     "height": 279
    },
    "id": "6d13d778",
    "outputId": "9fd802f1-89ed-4a47-f34b-ee02a696eaa9"
   },
   "outputs": [
    {
     "data": {
      "image/png": "[encoded data removed]",
      "text/plain": [
       "<Figure size 432x288 with 1 Axes>"
      ]
     },
     "metadata": {
      "needs_background": "light"
     },
     "output_type": "display_data"
    }
   ],
   "source": [
    "plt.plot(testing, label='Stock Price')\n",
    "plt.plot(pred, label='Prediction')\n",
    "\n",
    "plt.xlabel('Time')\n",
    "plt.ylabel('Stock price')\n",
    "plt.legend()\n",
    "plt.show()"
   ]
  }
 ],
 "metadata": {
  "accelerator": "TPU",
  "colab": {
   "collapsed_sections": [
    "c709287b"
   ],
   "name": "Lab 10.ipynb",
   "provenance": []
  },
  "kernelspec": {
   "display_name": "Python 3",
   "language": "python",
   "name": "python3"
  },
  "language_info": {
   "codemirror_mode": {
    "name": "ipython",
    "version": 3
   },
   "file_extension": ".py",
   "mimetype": "text/x-python",
   "name": "python",
   "nbconvert_exporter": "python",
   "pygments_lexer": "ipython3",
   "version": "3.8.8"
  }
 },
 "nbformat": 4,
 "nbformat_minor": 5
}
