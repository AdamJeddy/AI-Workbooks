{
 "cells": [
  {
   "cell_type": "markdown",
   "id": "69762c2b",
   "metadata": {},
   "source": [
    "# Deep Learning\n",
    "Deep learning is a specialized form of machine learning. A machine learning workflow starts with relevant features being manually extracted from images. The features are then used to create a model that categorizes the objects in the image. With a deep learning workflow, relevant features are automatically extracted from images. In addition, deep learning performs “end-to-end learning” – where a network is given raw data and a task to perform, such as classification, and it learns how to do this automatically.\n",
    "\n",
    "Another key difference is deep learning algorithms scale with data, whereas shallow learning converges. Shallow learning refers to machine learning methods that plateau at a certain level of performance when you add more examples and training data to the network.\n",
    "\n",
    "A key advantage of deep learning networks is that they often continue to improve as the size of your data increases. In machine learning, you manually choose features and a classifier to sort images. With deep learning, feature extraction and modeling steps are automatic."
   ]
  },
  {
   "cell_type": "markdown",
   "id": "b6dad0ba",
   "metadata": {},
   "source": [
    "## Exercise 1: Design simple classifiers for iris dataset\n",
    "Use the following libraries below. No need for normalization."
   ]
  },
  {
   "cell_type": "code",
   "execution_count": 1,
   "id": "13e83c1c",
   "metadata": {},
   "outputs": [],
   "source": [
    "import pandas as pd\n",
    "\n",
    "from sklearn.model_selection import train_test_split\n",
    "from sklearn.ensemble import RandomForestClassifier\n",
    "from sklearn.linear_model import LogisticRegression\n",
    "from sklearn.tree import DecisionTreeClassifier\n",
    "from sklearn.neighbors import KNeighborsClassifier\n",
    "from sklearn.svm import SVC\n",
    "from sklearn.naive_bayes import GaussianNB\n",
    "\n",
    "from sklearn.metrics import accuracy_score\n",
    "from sklearn.preprocessing import MinMaxScaler\n",
    "from sklearn.metrics import confusion_matrix\n",
    "from sklearn.metrics import classification_report\n",
    "from sklearn import datasets\n",
    "\n",
    "import tensorflow as tf"
   ]
  },
  {
   "cell_type": "code",
   "execution_count": 2,
   "id": "dd65b92d",
   "metadata": {},
   "outputs": [],
   "source": [
    "df = pd.read_csv('data.data')\n",
    "X = df.drop('g', axis=1)\n",
    "y = df['g']\n",
    "\n",
    "X_train, X_test, y_train, y_test = train_test_split(X, y, test_size=0.3, random_state=0)"
   ]
  },
  {
   "cell_type": "code",
   "execution_count": 3,
   "id": "546f9e78",
   "metadata": {},
   "outputs": [],
   "source": [
    "#iris = datasets.load_iris()\n",
    "#cols_name = iris.feature_names\n",
    "#X = iris.data\n",
    "#y = iris.target\n",
    "\n",
    "#X_train, X_test, y_train, y_test = train_test_split(X, y, test_size=0.3, random_state=0)"
   ]
  },
  {
   "cell_type": "code",
   "execution_count": 4,
   "id": "532e952a",
   "metadata": {},
   "outputs": [],
   "source": [
    "# Holds all the model scores \n",
    "clf_scores = []"
   ]
  },
  {
   "cell_type": "markdown",
   "id": "32849426",
   "metadata": {},
   "source": [
    "### Classifier 1: Random Forest"
   ]
  },
  {
   "cell_type": "code",
   "execution_count": 5,
   "id": "39587d3a",
   "metadata": {},
   "outputs": [],
   "source": [
    "# Initializing the model \n",
    "clf_randForest = RandomForestClassifier()"
   ]
  },
  {
   "cell_type": "code",
   "execution_count": 6,
   "id": "faa87512",
   "metadata": {},
   "outputs": [
    {
     "data": {
      "text/plain": [
       "RandomForestClassifier()"
      ]
     },
     "execution_count": 6,
     "metadata": {},
     "output_type": "execute_result"
    }
   ],
   "source": [
    "# Fitting data to the model\n",
    "clf_randForest.fit(X_train,y_train)"
   ]
  },
  {
   "cell_type": "code",
   "execution_count": 7,
   "id": "f3d32cba",
   "metadata": {},
   "outputs": [
    {
     "name": "stdout",
     "output_type": "stream",
     "text": [
      "Accuracy:  0.8773221170697512\n"
     ]
    }
   ],
   "source": [
    "# Predicting and Model Accuracy\n",
    "y_pred = clf_randForest.predict(X_test)\n",
    "print(\"Accuracy: \", accuracy_score(y_test, y_pred))\n",
    "\n",
    "clf_scores.append(['Random Forest Classifier', accuracy_score(y_test, y_pred)])"
   ]
  },
  {
   "cell_type": "markdown",
   "id": "b87c0207",
   "metadata": {},
   "source": [
    "###  Classifier 2: Logistic Regression"
   ]
  },
  {
   "cell_type": "code",
   "execution_count": 8,
   "id": "f7a66109",
   "metadata": {},
   "outputs": [],
   "source": [
    "# Initializing the model\n",
    "clf_LogisticReg = LogisticRegression() "
   ]
  },
  {
   "cell_type": "code",
   "execution_count": 9,
   "id": "c9db2fff",
   "metadata": {},
   "outputs": [
    {
     "name": "stderr",
     "output_type": "stream",
     "text": [
      "C:\\Users\\Main\\anaconda3\\envs\\tensorflow\\lib\\site-packages\\sklearn\\linear_model\\_logistic.py:814: ConvergenceWarning: lbfgs failed to converge (status=1):\n",
      "STOP: TOTAL NO. of ITERATIONS REACHED LIMIT.\n",
      "\n",
      "Increase the number of iterations (max_iter) or scale the data as shown in:\n",
      "    https://scikit-learn.org/stable/modules/preprocessing.html\n",
      "Please also refer to the documentation for alternative solver options:\n",
      "    https://scikit-learn.org/stable/modules/linear_model.html#logistic-regression\n",
      "  n_iter_i = _check_optimize_result(\n"
     ]
    },
    {
     "data": {
      "text/plain": [
       "LogisticRegression()"
      ]
     },
     "execution_count": 9,
     "metadata": {},
     "output_type": "execute_result"
    }
   ],
   "source": [
    "# Fitting data to the model\n",
    "clf_LogisticReg.fit(X_train,y_train)"
   ]
  },
  {
   "cell_type": "code",
   "execution_count": 10,
   "id": "f0f03232",
   "metadata": {},
   "outputs": [
    {
     "name": "stdout",
     "output_type": "stream",
     "text": [
      "Accuracy:  0.7798808271994392\n"
     ]
    }
   ],
   "source": [
    "# Model Accuracy\n",
    "print(\"Accuracy: \", clf_LogisticReg.score(X_test, y_test))\n",
    "\n",
    "clf_scores.append(['Logistic Regression', clf_LogisticReg.score(X_test, y_test)])"
   ]
  },
  {
   "cell_type": "markdown",
   "id": "8b184909",
   "metadata": {},
   "source": [
    "### Classifier 3: Decision Tree Classifier"
   ]
  },
  {
   "cell_type": "code",
   "execution_count": 11,
   "id": "6c7040c0",
   "metadata": {},
   "outputs": [],
   "source": [
    "# Initializing the model\n",
    "clf_dtc = DecisionTreeClassifier()"
   ]
  },
  {
   "cell_type": "code",
   "execution_count": 12,
   "id": "3ab8eef0",
   "metadata": {},
   "outputs": [
    {
     "data": {
      "text/plain": [
       "DecisionTreeClassifier()"
      ]
     },
     "execution_count": 12,
     "metadata": {},
     "output_type": "execute_result"
    }
   ],
   "source": [
    "# Fitting data to the model\n",
    "clf_dtc.fit(X_train,y_train)"
   ]
  },
  {
   "cell_type": "code",
   "execution_count": 13,
   "id": "8b90d0b2",
   "metadata": {},
   "outputs": [
    {
     "name": "stdout",
     "output_type": "stream",
     "text": [
      "Accuracy:  0.81335436382755\n"
     ]
    }
   ],
   "source": [
    "# Predicting and Model Accuracy\n",
    "y_pred = clf_dtc.predict(X_test)\n",
    "print(\"Accuracy: \", accuracy_score(y_test, y_pred))\n",
    "\n",
    "clf_scores.append(['Decision Tree Classifier', accuracy_score(y_test, y_pred)])"
   ]
  },
  {
   "cell_type": "markdown",
   "id": "d3d4e320",
   "metadata": {},
   "source": [
    "### Classifier 4: K-Neighbors Classifier"
   ]
  },
  {
   "cell_type": "code",
   "execution_count": 14,
   "id": "50139184",
   "metadata": {},
   "outputs": [],
   "source": [
    "# Initializing the model\n",
    "clf_kn = KNeighborsClassifier()"
   ]
  },
  {
   "cell_type": "code",
   "execution_count": 15,
   "id": "3e4a3dd7",
   "metadata": {},
   "outputs": [
    {
     "data": {
      "text/plain": [
       "KNeighborsClassifier()"
      ]
     },
     "execution_count": 15,
     "metadata": {},
     "output_type": "execute_result"
    }
   ],
   "source": [
    "# Fitting data to the model\n",
    "clf_kn.fit(X_train, y_train)"
   ]
  },
  {
   "cell_type": "code",
   "execution_count": 16,
   "id": "75979e73",
   "metadata": {},
   "outputs": [
    {
     "name": "stdout",
     "output_type": "stream",
     "text": [
      "Accuracy:  0.8016123378899405\n"
     ]
    }
   ],
   "source": [
    "# Predicting and Model Accuracy\n",
    "y_pred = clf_kn.predict(X_test)\n",
    "print(\"Accuracy: \", accuracy_score(y_test, y_pred))\n",
    "\n",
    "clf_scores.append(['K-Neighbors Classifier', accuracy_score(y_test, y_pred)])"
   ]
  },
  {
   "cell_type": "markdown",
   "id": "d78d2cf1",
   "metadata": {},
   "source": [
    "### Classifier 5: Support Vector Classification (SVC)"
   ]
  },
  {
   "cell_type": "code",
   "execution_count": 17,
   "id": "2f545120",
   "metadata": {},
   "outputs": [],
   "source": [
    "# Initializing the model\n",
    "clf_svc = SVC()"
   ]
  },
  {
   "cell_type": "code",
   "execution_count": 18,
   "id": "c184297f",
   "metadata": {},
   "outputs": [
    {
     "data": {
      "text/plain": [
       "SVC()"
      ]
     },
     "execution_count": 18,
     "metadata": {},
     "output_type": "execute_result"
    }
   ],
   "source": [
    "# Fitting data to the model\n",
    "clf_svc.fit(X_train, y_train)"
   ]
  },
  {
   "cell_type": "code",
   "execution_count": 19,
   "id": "4ba45ae0",
   "metadata": {},
   "outputs": [
    {
     "name": "stdout",
     "output_type": "stream",
     "text": [
      "Accuracy:  0.822993340343498\n"
     ]
    }
   ],
   "source": [
    "# Predicting and Model Accuracy\n",
    "y_pred = clf_svc.predict(X_test)\n",
    "print(\"Accuracy: \", accuracy_score(y_test, y_pred))\n",
    "\n",
    "clf_scores.append(['SVC', accuracy_score(y_test, y_pred)])"
   ]
  },
  {
   "cell_type": "markdown",
   "id": "237a9bd9",
   "metadata": {},
   "source": [
    "### Classifier 6: Gaussian NB"
   ]
  },
  {
   "cell_type": "code",
   "execution_count": 20,
   "id": "998ff847",
   "metadata": {},
   "outputs": [],
   "source": [
    "# Initializing the model\n",
    "clf_gnb = GaussianNB()"
   ]
  },
  {
   "cell_type": "code",
   "execution_count": 21,
   "id": "15085922",
   "metadata": {},
   "outputs": [
    {
     "data": {
      "text/plain": [
       "GaussianNB()"
      ]
     },
     "execution_count": 21,
     "metadata": {},
     "output_type": "execute_result"
    }
   ],
   "source": [
    "# Fitting data to the model\n",
    "clf_gnb.fit(X_train, y_train)"
   ]
  },
  {
   "cell_type": "code",
   "execution_count": 22,
   "id": "5593171a",
   "metadata": {},
   "outputs": [
    {
     "name": "stdout",
     "output_type": "stream",
     "text": [
      "Accuracy:  0.7294076410795653\n"
     ]
    }
   ],
   "source": [
    "# Predicting and Model Accuracy\n",
    "y_pred = clf_gnb.predict(X_test)\n",
    "print(\"Accuracy: \", accuracy_score(y_test, y_pred))\n",
    "\n",
    "clf_scores.append(['GaussianNB', accuracy_score(y_test, y_pred)])"
   ]
  },
  {
   "cell_type": "markdown",
   "id": "bafdd879",
   "metadata": {},
   "source": [
    "### All the classifiers and their score"
   ]
  },
  {
   "cell_type": "code",
   "execution_count": 23,
   "id": "65c08124",
   "metadata": {},
   "outputs": [
    {
     "data": {
      "text/plain": [
       "[['Random Forest Classifier', 0.8773221170697512],\n",
       " ['Logistic Regression', 0.7798808271994392],\n",
       " ['Decision Tree Classifier', 0.81335436382755],\n",
       " ['K-Neighbors Classifier', 0.8016123378899405],\n",
       " ['SVC', 0.822993340343498],\n",
       " ['GaussianNB', 0.7294076410795653]]"
      ]
     },
     "execution_count": 23,
     "metadata": {},
     "output_type": "execute_result"
    }
   ],
   "source": [
    "clf_scores"
   ]
  },
  {
   "cell_type": "markdown",
   "id": "74512d1d",
   "metadata": {},
   "source": [
    "## Exercise 2: Neural Network\n",
    "Now design a neural network to classify the iris flowers.\n",
    "\n",
    "\n",
    "### step 1: Import the following libraries"
   ]
  },
  {
   "cell_type": "code",
   "execution_count": 24,
   "id": "4e290494",
   "metadata": {},
   "outputs": [],
   "source": [
    "from tensorflow.keras.optimizers import Adam\n",
    "import numpy as np\n",
    "from sklearn.datasets import load_iris\n",
    "from sklearn.model_selection import train_test_split\n",
    "from sklearn.preprocessing import OneHotEncoder\n",
    "from keras.models import Sequential\n",
    "from keras.layers import Dense"
   ]
  },
  {
   "cell_type": "markdown",
   "id": "124dfc9d",
   "metadata": {},
   "source": [
    "### Step 2: Set up your data as x and y. Split to train and test (70-30).\n",
    "You may want to encode your targets before splitting."
   ]
  },
  {
   "cell_type": "code",
   "execution_count": 25,
   "id": "8861df8d",
   "metadata": {},
   "outputs": [],
   "source": [
    "iris = datasets.load_iris()\n",
    "X = iris.data\n",
    "y = iris.target\n",
    "\n",
    "X_train, X_test, y_train, y_test = train_test_split(X, y, test_size=0.3, random_state=0)"
   ]
  },
  {
   "cell_type": "markdown",
   "id": "ea4f4493",
   "metadata": {},
   "source": [
    "### Step 3: Build the network structure \n",
    "Model will be sequential, with input shape same as the number of features. Use relu activation function. \n",
    "The last layer must be a softmax layer with N nodes. where N is the number of classes. "
   ]
  },
  {
   "cell_type": "code",
   "execution_count": 26,
   "id": "2837bdb0",
   "metadata": {},
   "outputs": [],
   "source": [
    "# Initilizing the model\n",
    "model = Sequential()"
   ]
  },
  {
   "cell_type": "code",
   "execution_count": 27,
   "id": "b230af26",
   "metadata": {},
   "outputs": [],
   "source": [
    "# Adding layers to the model\n",
    "model.add(Dense(10, input_shape=(4,), activation='relu'))\n",
    "model.add(Dense(10, activation='relu'))\n",
    "model.add(Dense(3, activation='softmax'))"
   ]
  },
  {
   "cell_type": "markdown",
   "id": "99235a5b",
   "metadata": {},
   "source": [
    "### Step 4: Model parameters \n",
    "Set your optimizer to Adam with a learn rate of 0.001 or 1e-3.\n",
    "compile your model, set your loss as categorical_crossentropy and your metrics as accuracy. \n",
    "you can display your network by checking the summary() function. "
   ]
  },
  {
   "cell_type": "code",
   "execution_count": 28,
   "id": "90bc9cce",
   "metadata": {},
   "outputs": [
    {
     "name": "stdout",
     "output_type": "stream",
     "text": [
      "Neural Network Model Summary: \n",
      "Model: \"sequential\"\n",
      "_________________________________________________________________\n",
      "Layer (type)                 Output Shape              Param #   \n",
      "=================================================================\n",
      "dense (Dense)                (None, 10)                50        \n",
      "_________________________________________________________________\n",
      "dense_1 (Dense)              (None, 10)                110       \n",
      "_________________________________________________________________\n",
      "dense_2 (Dense)              (None, 3)                 33        \n",
      "=================================================================\n",
      "Total params: 193\n",
      "Trainable params: 193\n",
      "Non-trainable params: 0\n",
      "_________________________________________________________________\n",
      "None\n"
     ]
    }
   ],
   "source": [
    "optimizer = Adam(lr=0.001)\n",
    "model.compile(optimizer, loss='sparse_categorical_crossentropy', metrics=['accuracy'])\n",
    "\n",
    "print('Neural Network Model Summary: ')\n",
    "print(model.summary())"
   ]
  },
  {
   "cell_type": "markdown",
   "id": "6ab226b8",
   "metadata": {},
   "source": [
    "### Step 5: Fit and display the accuracy"
   ]
  },
  {
   "cell_type": "code",
   "execution_count": 29,
   "id": "53753ba2",
   "metadata": {},
   "outputs": [
    {
     "name": "stdout",
     "output_type": "stream",
     "text": [
      "Epoch 1/200\n",
      "21/21 - 0s - loss: 1.4259 - accuracy: 0.3238\n",
      "Epoch 2/200\n",
      "21/21 - 0s - loss: 1.2326 - accuracy: 0.3238\n",
      "Epoch 3/200\n",
      "21/21 - 0s - loss: 1.1137 - accuracy: 0.3238\n",
      "Epoch 4/200\n",
      "21/21 - 0s - loss: 1.0348 - accuracy: 0.3238\n",
      "Epoch 5/200\n",
      "21/21 - 0s - loss: 0.9800 - accuracy: 0.3238\n",
      "Epoch 6/200\n",
      "21/21 - 0s - loss: 0.9333 - accuracy: 0.4571\n",
      "Epoch 7/200\n",
      "21/21 - 0s - loss: 0.8880 - accuracy: 0.6381\n",
      "Epoch 8/200\n",
      "21/21 - 0s - loss: 0.8501 - accuracy: 0.6952\n",
      "Epoch 9/200\n",
      "21/21 - 0s - loss: 0.8125 - accuracy: 0.6952\n",
      "Epoch 10/200\n",
      "21/21 - 0s - loss: 0.7764 - accuracy: 0.6952\n",
      "Epoch 11/200\n",
      "21/21 - 0s - loss: 0.7415 - accuracy: 0.6952\n",
      "Epoch 12/200\n",
      "21/21 - 0s - loss: 0.7062 - accuracy: 0.6952\n",
      "Epoch 13/200\n",
      "21/21 - 0s - loss: 0.6758 - accuracy: 0.6952\n",
      "Epoch 14/200\n",
      "21/21 - 0s - loss: 0.6461 - accuracy: 0.7048\n",
      "Epoch 15/200\n",
      "21/21 - 0s - loss: 0.6207 - accuracy: 0.7143\n",
      "Epoch 16/200\n",
      "21/21 - 0s - loss: 0.5972 - accuracy: 0.7238\n",
      "Epoch 17/200\n",
      "21/21 - 0s - loss: 0.5757 - accuracy: 0.7333\n",
      "Epoch 18/200\n",
      "21/21 - 0s - loss: 0.5538 - accuracy: 0.7238\n",
      "Epoch 19/200\n",
      "21/21 - 0s - loss: 0.5364 - accuracy: 0.7238\n",
      "Epoch 20/200\n",
      "21/21 - 0s - loss: 0.5199 - accuracy: 0.7524\n",
      "Epoch 21/200\n",
      "21/21 - 0s - loss: 0.5046 - accuracy: 0.7524\n",
      "Epoch 22/200\n",
      "21/21 - 0s - loss: 0.4894 - accuracy: 0.7905\n",
      "Epoch 23/200\n",
      "21/21 - 0s - loss: 0.4732 - accuracy: 0.8190\n",
      "Epoch 24/200\n",
      "21/21 - 0s - loss: 0.4533 - accuracy: 0.9333\n",
      "Epoch 25/200\n",
      "21/21 - 0s - loss: 0.4301 - accuracy: 0.9238\n",
      "Epoch 26/200\n",
      "21/21 - 0s - loss: 0.4081 - accuracy: 0.9048\n",
      "Epoch 27/200\n",
      "21/21 - 0s - loss: 0.3877 - accuracy: 0.9333\n",
      "Epoch 28/200\n",
      "21/21 - 0s - loss: 0.3696 - accuracy: 0.9429\n",
      "Epoch 29/200\n",
      "21/21 - 0s - loss: 0.3503 - accuracy: 0.9619\n",
      "Epoch 30/200\n",
      "21/21 - 0s - loss: 0.3386 - accuracy: 0.9524\n",
      "Epoch 31/200\n",
      "21/21 - 0s - loss: 0.3200 - accuracy: 0.9524\n",
      "Epoch 32/200\n",
      "21/21 - 0s - loss: 0.3115 - accuracy: 0.9619\n",
      "Epoch 33/200\n",
      "21/21 - 0s - loss: 0.2940 - accuracy: 0.9429\n",
      "Epoch 34/200\n",
      "21/21 - 0s - loss: 0.2794 - accuracy: 0.9714\n",
      "Epoch 35/200\n",
      "21/21 - 0s - loss: 0.2701 - accuracy: 0.9714\n",
      "Epoch 36/200\n",
      "21/21 - 0s - loss: 0.2563 - accuracy: 0.9714\n",
      "Epoch 37/200\n",
      "21/21 - 0s - loss: 0.2472 - accuracy: 0.9714\n",
      "Epoch 38/200\n",
      "21/21 - 0s - loss: 0.2368 - accuracy: 0.9619\n",
      "Epoch 39/200\n",
      "21/21 - 0s - loss: 0.2272 - accuracy: 0.9714\n",
      "Epoch 40/200\n",
      "21/21 - 0s - loss: 0.2235 - accuracy: 0.9619\n",
      "Epoch 41/200\n",
      "21/21 - 0s - loss: 0.2147 - accuracy: 0.9619\n",
      "Epoch 42/200\n",
      "21/21 - 0s - loss: 0.2021 - accuracy: 0.9714\n",
      "Epoch 43/200\n",
      "21/21 - 0s - loss: 0.1968 - accuracy: 0.9714\n",
      "Epoch 44/200\n",
      "21/21 - 0s - loss: 0.1882 - accuracy: 0.9810\n",
      "Epoch 45/200\n",
      "21/21 - 0s - loss: 0.1824 - accuracy: 0.9714\n",
      "Epoch 46/200\n",
      "21/21 - 0s - loss: 0.1767 - accuracy: 0.9714\n",
      "Epoch 47/200\n",
      "21/21 - 0s - loss: 0.1702 - accuracy: 0.9810\n",
      "Epoch 48/200\n",
      "21/21 - 0s - loss: 0.1741 - accuracy: 0.9619\n",
      "Epoch 49/200\n",
      "21/21 - 0s - loss: 0.1630 - accuracy: 0.9714\n",
      "Epoch 50/200\n",
      "21/21 - 0s - loss: 0.1643 - accuracy: 0.9714\n",
      "Epoch 51/200\n",
      "21/21 - 0s - loss: 0.1579 - accuracy: 0.9619\n",
      "Epoch 52/200\n",
      "21/21 - 0s - loss: 0.1571 - accuracy: 0.9714\n",
      "Epoch 53/200\n",
      "21/21 - 0s - loss: 0.1442 - accuracy: 0.9714\n",
      "Epoch 54/200\n",
      "21/21 - 0s - loss: 0.1383 - accuracy: 0.9714\n",
      "Epoch 55/200\n",
      "21/21 - 0s - loss: 0.1375 - accuracy: 0.9714\n",
      "Epoch 56/200\n",
      "21/21 - 0s - loss: 0.1341 - accuracy: 0.9714\n",
      "Epoch 57/200\n",
      "21/21 - 0s - loss: 0.1312 - accuracy: 0.9714\n",
      "Epoch 58/200\n",
      "21/21 - 0s - loss: 0.1275 - accuracy: 0.9714\n",
      "Epoch 59/200\n",
      "21/21 - 0s - loss: 0.1242 - accuracy: 0.9810\n",
      "Epoch 60/200\n",
      "21/21 - 0s - loss: 0.1211 - accuracy: 0.9714\n",
      "Epoch 61/200\n",
      "21/21 - 0s - loss: 0.1171 - accuracy: 0.9810\n",
      "Epoch 62/200\n",
      "21/21 - 0s - loss: 0.1157 - accuracy: 0.9810\n",
      "Epoch 63/200\n",
      "21/21 - 0s - loss: 0.1118 - accuracy: 0.9810\n",
      "Epoch 64/200\n",
      "21/21 - 0s - loss: 0.1105 - accuracy: 0.9714\n",
      "Epoch 65/200\n",
      "21/21 - 0s - loss: 0.1084 - accuracy: 0.9810\n",
      "Epoch 66/200\n",
      "21/21 - 0s - loss: 0.1089 - accuracy: 0.9810\n",
      "Epoch 67/200\n",
      "21/21 - 0s - loss: 0.1057 - accuracy: 0.9714\n",
      "Epoch 68/200\n",
      "21/21 - 0s - loss: 0.1022 - accuracy: 0.9810\n",
      "Epoch 69/200\n",
      "21/21 - 0s - loss: 0.1009 - accuracy: 0.9810\n",
      "Epoch 70/200\n",
      "21/21 - 0s - loss: 0.0981 - accuracy: 0.9810\n",
      "Epoch 71/200\n",
      "21/21 - 0s - loss: 0.1040 - accuracy: 0.9810\n",
      "Epoch 72/200\n",
      "21/21 - 0s - loss: 0.0980 - accuracy: 0.9810\n",
      "Epoch 73/200\n",
      "21/21 - 0s - loss: 0.0973 - accuracy: 0.9714\n",
      "Epoch 74/200\n",
      "21/21 - 0s - loss: 0.0926 - accuracy: 0.9810\n",
      "Epoch 75/200\n",
      "21/21 - 0s - loss: 0.0918 - accuracy: 0.9810\n",
      "Epoch 76/200\n",
      "21/21 - 0s - loss: 0.0926 - accuracy: 0.9810\n",
      "Epoch 77/200\n",
      "21/21 - 0s - loss: 0.0882 - accuracy: 0.9714\n",
      "Epoch 78/200\n",
      "21/21 - 0s - loss: 0.0913 - accuracy: 0.9810\n",
      "Epoch 79/200\n",
      "21/21 - 0s - loss: 0.0840 - accuracy: 0.9810\n",
      "Epoch 80/200\n",
      "21/21 - 0s - loss: 0.0844 - accuracy: 0.9810\n",
      "Epoch 81/200\n",
      "21/21 - 0s - loss: 0.0825 - accuracy: 0.9810\n",
      "Epoch 82/200\n",
      "21/21 - 0s - loss: 0.0827 - accuracy: 0.9810\n",
      "Epoch 83/200\n",
      "21/21 - 0s - loss: 0.0822 - accuracy: 0.9810\n",
      "Epoch 84/200\n",
      "21/21 - 0s - loss: 0.0798 - accuracy: 0.9810\n",
      "Epoch 85/200\n",
      "21/21 - 0s - loss: 0.0810 - accuracy: 0.9810\n",
      "Epoch 86/200\n",
      "21/21 - 0s - loss: 0.0800 - accuracy: 0.9810\n",
      "Epoch 87/200\n",
      "21/21 - 0s - loss: 0.0852 - accuracy: 0.9810\n",
      "Epoch 88/200\n",
      "21/21 - 0s - loss: 0.0776 - accuracy: 0.9810\n",
      "Epoch 89/200\n",
      "21/21 - 0s - loss: 0.0762 - accuracy: 0.9810\n",
      "Epoch 90/200\n",
      "21/21 - 0s - loss: 0.0762 - accuracy: 0.9810\n",
      "Epoch 91/200\n",
      "21/21 - 0s - loss: 0.0771 - accuracy: 0.9810\n",
      "Epoch 92/200\n",
      "21/21 - 0s - loss: 0.0729 - accuracy: 0.9810\n",
      "Epoch 93/200\n",
      "21/21 - 0s - loss: 0.0728 - accuracy: 0.9810\n",
      "Epoch 94/200\n",
      "21/21 - 0s - loss: 0.0759 - accuracy: 0.9810\n",
      "Epoch 95/200\n",
      "21/21 - 0s - loss: 0.0742 - accuracy: 0.9810\n",
      "Epoch 96/200\n",
      "21/21 - 0s - loss: 0.0792 - accuracy: 0.9714\n",
      "Epoch 97/200\n",
      "21/21 - 0s - loss: 0.0782 - accuracy: 0.9714\n",
      "Epoch 98/200\n",
      "21/21 - 0s - loss: 0.0785 - accuracy: 0.9810\n",
      "Epoch 99/200\n",
      "21/21 - 0s - loss: 0.0855 - accuracy: 0.9714\n",
      "Epoch 100/200\n",
      "21/21 - 0s - loss: 0.0903 - accuracy: 0.9524\n",
      "Epoch 101/200\n",
      "21/21 - 0s - loss: 0.0787 - accuracy: 0.9714\n",
      "Epoch 102/200\n",
      "21/21 - 0s - loss: 0.0691 - accuracy: 0.9905\n",
      "Epoch 103/200\n",
      "21/21 - 0s - loss: 0.0656 - accuracy: 0.9810\n",
      "Epoch 104/200\n",
      "21/21 - 0s - loss: 0.0713 - accuracy: 0.9905\n",
      "Epoch 105/200\n",
      "21/21 - 0s - loss: 0.0674 - accuracy: 0.9810\n",
      "Epoch 106/200\n",
      "21/21 - 0s - loss: 0.0658 - accuracy: 0.9810\n",
      "Epoch 107/200\n",
      "21/21 - 0s - loss: 0.0673 - accuracy: 0.9905\n",
      "Epoch 108/200\n",
      "21/21 - 0s - loss: 0.0642 - accuracy: 0.9810\n",
      "Epoch 109/200\n",
      "21/21 - 0s - loss: 0.0665 - accuracy: 0.9810\n",
      "Epoch 110/200\n",
      "21/21 - 0s - loss: 0.0692 - accuracy: 0.9714\n",
      "Epoch 111/200\n",
      "21/21 - 0s - loss: 0.0650 - accuracy: 0.9810\n",
      "Epoch 112/200\n",
      "21/21 - 0s - loss: 0.0634 - accuracy: 0.9810\n",
      "Epoch 113/200\n",
      "21/21 - 0s - loss: 0.0638 - accuracy: 0.9810\n",
      "Epoch 114/200\n",
      "21/21 - 0s - loss: 0.0633 - accuracy: 0.9905\n",
      "Epoch 115/200\n",
      "21/21 - 0s - loss: 0.0659 - accuracy: 0.9810\n",
      "Epoch 116/200\n",
      "21/21 - 0s - loss: 0.0597 - accuracy: 0.9810\n",
      "Epoch 117/200\n",
      "21/21 - 0s - loss: 0.0608 - accuracy: 0.9810\n",
      "Epoch 118/200\n",
      "21/21 - 0s - loss: 0.0617 - accuracy: 0.9810\n",
      "Epoch 119/200\n",
      "21/21 - 0s - loss: 0.0622 - accuracy: 0.9905\n",
      "Epoch 120/200\n",
      "21/21 - 0s - loss: 0.0639 - accuracy: 0.9810\n",
      "Epoch 121/200\n",
      "21/21 - 0s - loss: 0.0656 - accuracy: 0.9810\n",
      "Epoch 122/200\n",
      "21/21 - 0s - loss: 0.0602 - accuracy: 0.9810\n",
      "Epoch 123/200\n",
      "21/21 - 0s - loss: 0.0568 - accuracy: 0.9905\n",
      "Epoch 124/200\n",
      "21/21 - 0s - loss: 0.0602 - accuracy: 0.9810\n",
      "Epoch 125/200\n",
      "21/21 - 0s - loss: 0.0619 - accuracy: 0.9810\n",
      "Epoch 126/200\n",
      "21/21 - 0s - loss: 0.0593 - accuracy: 0.9810\n",
      "Epoch 127/200\n",
      "21/21 - 0s - loss: 0.0585 - accuracy: 0.9810\n",
      "Epoch 128/200\n",
      "21/21 - 0s - loss: 0.0599 - accuracy: 0.9810\n",
      "Epoch 129/200\n",
      "21/21 - 0s - loss: 0.0565 - accuracy: 0.9905\n",
      "Epoch 130/200\n",
      "21/21 - 0s - loss: 0.0580 - accuracy: 0.9810\n",
      "Epoch 131/200\n",
      "21/21 - 0s - loss: 0.0556 - accuracy: 0.9810\n",
      "Epoch 132/200\n",
      "21/21 - 0s - loss: 0.0612 - accuracy: 0.9810\n",
      "Epoch 133/200\n",
      "21/21 - 0s - loss: 0.0510 - accuracy: 0.9810\n",
      "Epoch 134/200\n",
      "21/21 - 0s - loss: 0.0559 - accuracy: 0.9810\n",
      "Epoch 135/200\n",
      "21/21 - 0s - loss: 0.0557 - accuracy: 0.9810\n",
      "Epoch 136/200\n",
      "21/21 - 0s - loss: 0.0545 - accuracy: 0.9810\n",
      "Epoch 137/200\n",
      "21/21 - 0s - loss: 0.0564 - accuracy: 0.9810\n",
      "Epoch 138/200\n",
      "21/21 - 0s - loss: 0.0556 - accuracy: 0.9810\n",
      "Epoch 139/200\n",
      "21/21 - 0s - loss: 0.0610 - accuracy: 0.9810\n",
      "Epoch 140/200\n",
      "21/21 - 0s - loss: 0.0537 - accuracy: 0.9810\n",
      "Epoch 141/200\n",
      "21/21 - 0s - loss: 0.0505 - accuracy: 0.9810\n"
     ]
    },
    {
     "name": "stdout",
     "output_type": "stream",
     "text": [
      "Epoch 142/200\n",
      "21/21 - 0s - loss: 0.0607 - accuracy: 0.9810\n",
      "Epoch 143/200\n",
      "21/21 - 0s - loss: 0.0680 - accuracy: 0.9619\n",
      "Epoch 144/200\n",
      "21/21 - 0s - loss: 0.0731 - accuracy: 0.9810\n",
      "Epoch 145/200\n",
      "21/21 - 0s - loss: 0.0665 - accuracy: 0.9810\n",
      "Epoch 146/200\n",
      "21/21 - 0s - loss: 0.0531 - accuracy: 0.9810\n",
      "Epoch 147/200\n",
      "21/21 - 0s - loss: 0.0498 - accuracy: 0.9810\n",
      "Epoch 148/200\n",
      "21/21 - 0s - loss: 0.0504 - accuracy: 0.9810\n",
      "Epoch 149/200\n",
      "21/21 - 0s - loss: 0.0498 - accuracy: 0.9810\n",
      "Epoch 150/200\n",
      "21/21 - 0s - loss: 0.0535 - accuracy: 0.9810\n",
      "Epoch 151/200\n",
      "21/21 - 0s - loss: 0.0502 - accuracy: 0.9810\n",
      "Epoch 152/200\n",
      "21/21 - 0s - loss: 0.0527 - accuracy: 0.9810\n",
      "Epoch 153/200\n",
      "21/21 - 0s - loss: 0.0503 - accuracy: 0.9810\n",
      "Epoch 154/200\n",
      "21/21 - 0s - loss: 0.0494 - accuracy: 0.9810\n",
      "Epoch 155/200\n",
      "21/21 - 0s - loss: 0.0527 - accuracy: 0.9810\n",
      "Epoch 156/200\n",
      "21/21 - 0s - loss: 0.0524 - accuracy: 0.9810\n",
      "Epoch 157/200\n",
      "21/21 - 0s - loss: 0.0517 - accuracy: 0.9810\n",
      "Epoch 158/200\n",
      "21/21 - 0s - loss: 0.0498 - accuracy: 0.9905\n",
      "Epoch 159/200\n",
      "21/21 - 0s - loss: 0.0456 - accuracy: 0.9905\n",
      "Epoch 160/200\n",
      "21/21 - 0s - loss: 0.0552 - accuracy: 0.9810\n",
      "Epoch 161/200\n",
      "21/21 - 0s - loss: 0.0487 - accuracy: 0.9810\n",
      "Epoch 162/200\n",
      "21/21 - 0s - loss: 0.0507 - accuracy: 0.9810\n",
      "Epoch 163/200\n",
      "21/21 - 0s - loss: 0.0476 - accuracy: 0.9810\n",
      "Epoch 164/200\n",
      "21/21 - 0s - loss: 0.0513 - accuracy: 0.9905\n",
      "Epoch 165/200\n",
      "21/21 - 0s - loss: 0.0494 - accuracy: 0.9810\n",
      "Epoch 166/200\n",
      "21/21 - 0s - loss: 0.0461 - accuracy: 0.9810\n",
      "Epoch 167/200\n",
      "21/21 - 0s - loss: 0.0477 - accuracy: 0.9810\n",
      "Epoch 168/200\n",
      "21/21 - 0s - loss: 0.0495 - accuracy: 0.9810\n",
      "Epoch 169/200\n",
      "21/21 - 0s - loss: 0.0514 - accuracy: 0.9810\n",
      "Epoch 170/200\n",
      "21/21 - 0s - loss: 0.0532 - accuracy: 0.9810\n",
      "Epoch 171/200\n",
      "21/21 - 0s - loss: 0.0488 - accuracy: 0.9810\n",
      "Epoch 172/200\n",
      "21/21 - 0s - loss: 0.0461 - accuracy: 0.9810\n",
      "Epoch 173/200\n",
      "21/21 - 0s - loss: 0.0501 - accuracy: 0.9810\n",
      "Epoch 174/200\n",
      "21/21 - 0s - loss: 0.0479 - accuracy: 0.9810\n",
      "Epoch 175/200\n",
      "21/21 - 0s - loss: 0.0503 - accuracy: 0.9810\n",
      "Epoch 176/200\n",
      "21/21 - 0s - loss: 0.0439 - accuracy: 0.9810\n",
      "Epoch 177/200\n",
      "21/21 - 0s - loss: 0.0524 - accuracy: 0.9810\n",
      "Epoch 178/200\n",
      "21/21 - 0s - loss: 0.0492 - accuracy: 0.9810\n",
      "Epoch 179/200\n",
      "21/21 - 0s - loss: 0.0460 - accuracy: 0.9810\n",
      "Epoch 180/200\n",
      "21/21 - 0s - loss: 0.0492 - accuracy: 0.9810\n",
      "Epoch 181/200\n",
      "21/21 - 0s - loss: 0.0485 - accuracy: 0.9810\n",
      "Epoch 182/200\n",
      "21/21 - 0s - loss: 0.0454 - accuracy: 0.9810\n",
      "Epoch 183/200\n",
      "21/21 - 0s - loss: 0.0453 - accuracy: 0.9810\n",
      "Epoch 184/200\n",
      "21/21 - 0s - loss: 0.0465 - accuracy: 0.9810\n",
      "Epoch 185/200\n",
      "21/21 - 0s - loss: 0.0436 - accuracy: 0.9810\n",
      "Epoch 186/200\n",
      "21/21 - 0s - loss: 0.0475 - accuracy: 0.9905\n",
      "Epoch 187/200\n",
      "21/21 - 0s - loss: 0.0494 - accuracy: 0.9810\n",
      "Epoch 188/200\n",
      "21/21 - 0s - loss: 0.0449 - accuracy: 0.9810\n",
      "Epoch 189/200\n",
      "21/21 - 0s - loss: 0.0461 - accuracy: 0.9810\n",
      "Epoch 190/200\n",
      "21/21 - 0s - loss: 0.0432 - accuracy: 0.9810\n",
      "Epoch 191/200\n",
      "21/21 - 0s - loss: 0.0475 - accuracy: 0.9810\n",
      "Epoch 192/200\n",
      "21/21 - 0s - loss: 0.0512 - accuracy: 0.9810\n",
      "Epoch 193/200\n",
      "21/21 - 0s - loss: 0.0493 - accuracy: 0.9810\n",
      "Epoch 194/200\n",
      "21/21 - 0s - loss: 0.0549 - accuracy: 0.9714\n",
      "Epoch 195/200\n",
      "21/21 - 0s - loss: 0.0554 - accuracy: 0.9810\n",
      "Epoch 196/200\n",
      "21/21 - 0s - loss: 0.0403 - accuracy: 0.9810\n",
      "Epoch 197/200\n",
      "21/21 - 0s - loss: 0.0529 - accuracy: 0.9810\n",
      "Epoch 198/200\n",
      "21/21 - 0s - loss: 0.0539 - accuracy: 0.9810\n",
      "Epoch 199/200\n",
      "21/21 - 0s - loss: 0.0409 - accuracy: 0.9905\n",
      "Epoch 200/200\n",
      "21/21 - 0s - loss: 0.0441 - accuracy: 0.9810\n"
     ]
    },
    {
     "data": {
      "text/plain": [
       "<tensorflow.python.keras.callbacks.History at 0x1f897118070>"
      ]
     },
     "execution_count": 29,
     "metadata": {},
     "output_type": "execute_result"
    }
   ],
   "source": [
    "# Training the model\n",
    "model.fit(X_train, y_train, verbose=2, batch_size=5, epochs=200)"
   ]
  },
  {
   "cell_type": "code",
   "execution_count": 30,
   "id": "3bd9eaf7",
   "metadata": {},
   "outputs": [
    {
     "name": "stdout",
     "output_type": "stream",
     "text": [
      "2/2 [==============================] - 0s 9ms/step - loss: 0.1220 - accuracy: 0.9778\n",
      "Final test set loss:\t0.122041\n",
      "Final train set loss:\t0.977778\n"
     ]
    }
   ],
   "source": [
    "# Test the model with unseen data\n",
    "results = model.evaluate(X_test, y_test)\n",
    "print('Final test set loss:\\t{:4f}'.format(results[0]))\n",
    "print('Final train set loss:\\t{:4f}'.format(results[1]))"
   ]
  },
  {
   "cell_type": "code",
   "execution_count": null,
   "id": "de258a13",
   "metadata": {},
   "outputs": [],
   "source": []
  }
 ],
 "metadata": {
  "kernelspec": {
   "display_name": "Python 3",
   "language": "python",
   "name": "python3"
  },
  "language_info": {
   "codemirror_mode": {
    "name": "ipython",
    "version": 3
   },
   "file_extension": ".py",
   "mimetype": "text/x-python",
   "name": "python",
   "nbconvert_exporter": "python",
   "pygments_lexer": "ipython3",
   "version": "3.8.8"
  }
 },
 "nbformat": 4,
 "nbformat_minor": 5
}
